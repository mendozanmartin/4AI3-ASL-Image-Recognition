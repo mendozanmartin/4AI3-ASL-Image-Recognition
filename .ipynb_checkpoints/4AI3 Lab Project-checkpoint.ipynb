{
 "cells": [
  {
   "cell_type": "code",
   "execution_count": 68,
   "metadata": {},
   "outputs": [],
   "source": [
    "import os\n",
    "import plaidml.keras\n",
    "\n",
    "plaidml.keras.install_backend()\n",
    "os.environ[\"KERAS_BACKEND\"] = \"plaidml.keras.backend\"\n",
    "\n",
    "import time\n",
    "import tensorflow as tf\n",
    "import numpy as np\n",
    "import pandas as pd\n",
    "# from tensorflow import keras\n",
    "# from tensorflow.keras.models import Sequential\n",
    "# from keras.datasets import cifar10\n",
    "# from tensorflow.keras.layers import Conv2D, MaxPooling2D, Flatten, Dense, Dropout\n",
    "from keras.models import Sequential, load_model\n",
    "from keras.layers import Conv2D, MaxPooling2D, Flatten, Dense, Dropout\n",
    "from keras.preprocessing import image\n",
    "from keras.applications.resnet50 import preprocess_input\n",
    "from matplotlib import pyplot as plt"
   ]
  },
  {
   "cell_type": "code",
   "execution_count": 15,
   "metadata": {},
   "outputs": [],
   "source": [
    "def convert_label(x):\n",
    "    if x == '0':\n",
    "        return 'A'\n",
    "    elif x == '1':\n",
    "        return 'B'\n",
    "    elif x == '2':\n",
    "        return 'C'\n",
    "    elif x == '3':\n",
    "        return 'D'\n",
    "    elif x == '4':\n",
    "        return 'E'\n",
    "    elif x == '5':\n",
    "        return 'F'\n",
    "    elif x == '6':\n",
    "        return 'G'\n",
    "    elif x == '7':\n",
    "        return 'H'\n",
    "    elif x == '8':\n",
    "        return 'I'\n",
    "    elif x == '9':\n",
    "        return 'J'\n",
    "    elif x == '10':\n",
    "        return 'K'\n",
    "    elif x == '11':\n",
    "        return 'L'\n",
    "    elif x == '12':\n",
    "        return 'M'\n",
    "    elif x == '13':\n",
    "        return 'N'\n",
    "    elif x == '14':\n",
    "        return 'O'\n",
    "    elif x == '15':\n",
    "        return 'P'\n",
    "    elif x == '16':\n",
    "        return 'Q'\n",
    "    elif x == '17':\n",
    "        return 'R'\n",
    "    elif x == '18':\n",
    "        return 'S'\n",
    "    elif x == '19':\n",
    "        return 'T'\n",
    "    elif x == '20':\n",
    "        return 'U'\n",
    "    elif x == '21':\n",
    "        return 'V'\n",
    "    elif x == '22':\n",
    "        return 'W'\n",
    "    elif x == '23':\n",
    "        return 'X'\n",
    "    elif x == '24':\n",
    "        return 'Y'\n",
    "    elif x == '25':\n",
    "        return 'Z'\n"
   ]
  },
  {
   "cell_type": "code",
   "execution_count": 3,
   "metadata": {},
   "outputs": [],
   "source": [
    "# Initialising the CNN\n",
    "classifier = Sequential()"
   ]
  },
  {
   "cell_type": "code",
   "execution_count": 4,
   "metadata": {},
   "outputs": [
    {
     "name": "stderr",
     "output_type": "stream",
     "text": [
      "INFO:plaidml:Opening device \"metal_amd_radeon_pro_5300m.0\"\n"
     ]
    }
   ],
   "source": [
    "classifier.add(Conv2D(32, (5, 5), strides =(1,1),activation='relu', input_shape=(64, 64,3)))\n",
    "classifier.add(Conv2D(64, (5, 5), activation='relu'))\n",
    "classifier.add(MaxPooling2D(pool_size=(2,2), strides=(2,2)))\n",
    "# classifier.add(Dropout(0.25))\n",
    "classifier.add(Flatten())\n",
    "classifier.add(Dense(256, activation='relu'))\n",
    "# classifier.add(Dropout(0.5))\n",
    "classifier.add(Dense(29, activation='softmax')) \n",
    "\n",
    "classifier.compile(loss='categorical_crossentropy',optimizer='adadelta', metrics=['accuracy'])\n"
   ]
  },
  {
   "cell_type": "code",
   "execution_count": 5,
   "metadata": {},
   "outputs": [],
   "source": [
    "# Part 2 - Fitting the CNN to the images\n",
    "\n",
    "from keras.preprocessing.image import ImageDataGenerator"
   ]
  },
  {
   "cell_type": "code",
   "execution_count": 6,
   "metadata": {},
   "outputs": [],
   "source": [
    "train_datagen = ImageDataGenerator(rescale = 1./255,\n",
    "                                   shear_range = 0.2,\n",
    "                                   zoom_range = 0.2,\n",
    "                                   horizontal_flip = True,\n",
    "                                   validation_split=0.2)\n",
    "\n",
    "test_datagen = ImageDataGenerator(rescale = 1./255)"
   ]
  },
  {
   "cell_type": "code",
   "execution_count": 52,
   "metadata": {},
   "outputs": [
    {
     "name": "stdout",
     "output_type": "stream",
     "text": [
      "Found 69600 images belonging to 29 classes.\n",
      "Found 17400 images belonging to 29 classes.\n"
     ]
    }
   ],
   "source": [
    "train_generator = train_datagen.flow_from_directory(\n",
    "    'archive/asl_alphabet_train/asl_alphabet_train',\n",
    "    target_size=(64, 64),\n",
    "    batch_size=32,\n",
    "    class_mode='categorical',\n",
    "    subset='training') # set as training data\n",
    "\n",
    "validation_generator = train_datagen.flow_from_directory(\n",
    "    'archive/asl_alphabet_train/asl_alphabet_train', # same directory as training data\n",
    "    target_size=(64, 64),\n",
    "    batch_size=32,\n",
    "    class_mode='categorical',\n",
    "    subset='validation') # set as validation data"
   ]
  },
  {
   "cell_type": "code",
   "execution_count": null,
   "metadata": {},
   "outputs": [
    {
     "name": "stdout",
     "output_type": "stream",
     "text": [
      "Epoch 1/20\n",
      "2175/2175 [==============================] - 189s 87ms/step - loss: 0.1306 - acc: 0.9572 - val_loss: 2.5238 - val_acc: 0.5930\n",
      "Epoch 2/20\n",
      "2175/2175 [==============================] - 201s 93ms/step - loss: 0.0817 - acc: 0.9735 - val_loss: 2.3813 - val_acc: 0.6155\n",
      "Epoch 3/20\n",
      "2175/2175 [==============================] - 210s 96ms/step - loss: 0.0577 - acc: 0.9811 - val_loss: 2.6344 - val_acc: 0.6091\n",
      "Epoch 4/20\n",
      "2175/2175 [==============================] - 230s 106ms/step - loss: 0.0440 - acc: 0.9865 - val_loss: 3.1338 - val_acc: 0.6091\n",
      "Epoch 5/20\n",
      "2175/2175 [==============================] - 235s 108ms/step - loss: 0.0368 - acc: 0.9886 - val_loss: 3.3234 - val_acc: 0.6117\n",
      "Epoch 6/20\n",
      "2175/2175 [==============================] - 232s 107ms/step - loss: 0.0297 - acc: 0.9906 - val_loss: 3.5224 - val_acc: 0.6069\n",
      "Epoch 7/20\n",
      "2175/2175 [==============================] - 230s 106ms/step - loss: 0.0254 - acc: 0.9916 - val_loss: 3.5807 - val_acc: 0.6132\n",
      "Epoch 8/20\n",
      "2175/2175 [==============================] - 231s 106ms/step - loss: 0.0246 - acc: 0.9925 - val_loss: 3.5445 - val_acc: 0.6209\n",
      "Epoch 9/20\n",
      "2175/2175 [==============================] - 237s 109ms/step - loss: 0.0221 - acc: 0.9934 - val_loss: 3.5225 - val_acc: 0.6329\n",
      "Epoch 10/20\n",
      "2175/2175 [==============================] - 261s 120ms/step - loss: 0.0188 - acc: 0.9943 - val_loss: 4.3030 - val_acc: 0.5932\n",
      "Epoch 11/20\n",
      "2175/2175 [==============================] - 256s 118ms/step - loss: 0.0193 - acc: 0.9943 - val_loss: 3.9746 - val_acc: 0.6421\n",
      "Epoch 12/20\n",
      "2175/2175 [==============================] - 237s 109ms/step - loss: 0.0179 - acc: 0.9947 - val_loss: 4.2787 - val_acc: 0.6306\n",
      "Epoch 13/20\n",
      "2175/2175 [==============================] - 222s 102ms/step - loss: 0.0136 - acc: 0.9960 - val_loss: 4.2132 - val_acc: 0.6182\n",
      "Epoch 14/20\n",
      "2175/2175 [==============================] - 206s 95ms/step - loss: 0.0146 - acc: 0.9956 - val_loss: 4.1600 - val_acc: 0.6341\n",
      "Epoch 15/20\n",
      "2175/2175 [==============================] - 231s 106ms/step - loss: 0.0167 - acc: 0.9953 - val_loss: 4.1141 - val_acc: 0.6440\n",
      "Epoch 16/20\n",
      "2175/2175 [==============================] - 236s 109ms/step - loss: 0.0137 - acc: 0.9959 - val_loss: 4.2522 - val_acc: 0.6386\n",
      "Epoch 17/20\n",
      "1412/2175 [==================>...........] - ETA: 1:11 - loss: 0.0154 - acc: 0.9958"
     ]
    }
   ],
   "source": [
    "classifier.fit_generator(train_generator, epochs=20, validation_data=validation_generator)"
   ]
  },
  {
   "cell_type": "code",
   "execution_count": 53,
   "metadata": {},
   "outputs": [],
   "source": [
    "classifier.save('model.h5')"
   ]
  },
  {
   "cell_type": "code",
   "execution_count": 97,
   "metadata": {},
   "outputs": [],
   "source": [
    "img_path = \"./archive/asl_alphabet_test/asl_alphabet_test/H/H_test.jpg\""
   ]
  },
  {
   "cell_type": "code",
   "execution_count": 98,
   "metadata": {},
   "outputs": [],
   "source": [
    "img = image.load_img(img_path, target_size=(64,64)) # resize image\n",
    "\n",
    "img_array = image.img_to_array(img)\n",
    "img_batch=np.expand_dims(img_array, axis=0) #deep learning models expect a batch of images as input"
   ]
  },
  {
   "cell_type": "code",
   "execution_count": 99,
   "metadata": {},
   "outputs": [
    {
     "data": {
      "text/plain": [
       "<matplotlib.image.AxesImage at 0x7f81b9904f50>"
      ]
     },
     "execution_count": 99,
     "metadata": {},
     "output_type": "execute_result"
    },
    {
     "data": {
      "image/png": "[encoded data removed]",
      "text/plain": [
       "<Figure size 432x288 with 1 Axes>"
      ]
     },
     "metadata": {
      "needs_background": "light"
     },
     "output_type": "display_data"
    }
   ],
   "source": [
    "plt.imshow(img)"
   ]
  },
  {
   "cell_type": "code",
   "execution_count": 100,
   "metadata": {},
   "outputs": [],
   "source": [
    "img_batch = np.expand_dims(img_array, axis=0)\n",
    "img_preprocessed = preprocess_input(img_batch)"
   ]
  },
  {
   "cell_type": "code",
   "execution_count": 102,
   "metadata": {},
   "outputs": [
    {
     "data": {
      "text/plain": [
       "array([[1., 0., 0., 0., 0., 0., 0., 0., 0., 0., 0., 0., 0., 0., 0., 0.,\n",
       "        0., 0., 0., 0., 0., 0., 0., 0., 0., 0., 0., 0., 0.]],\n",
       "      dtype=float32)"
      ]
     },
     "execution_count": 102,
     "metadata": {},
     "output_type": "execute_result"
    }
   ],
   "source": [
    "new_model = load_model('model.h5')\n",
    "prediction = new_model.predict(img_preprocessed)\n",
    "prediction"
   ]
  },
  {
   "cell_type": "code",
   "execution_count": null,
   "metadata": {},
   "outputs": [],
   "source": []
  }
 ],
 "metadata": {
  "kernelspec": {
   "display_name": "Python 3",
   "language": "python",
   "name": "python3"
  },
  "language_info": {
   "codemirror_mode": {
    "name": "ipython",
    "version": 3
   },
   "file_extension": ".py",
   "mimetype": "text/x-python",
   "name": "python",
   "nbconvert_exporter": "python",
   "pygments_lexer": "ipython3",
   "version": "3.7.6"
  }
 },
 "nbformat": 4,
 "nbformat_minor": 4
}
